{
 "cells": [
  {
   "cell_type": "code",
   "execution_count": 2,
   "metadata": {},
   "outputs": [
    {
     "name": "stdout",
     "output_type": "stream",
     "text": [
      "很大..._acg-pixiv插画网(p站).jpeg /Users/lucifer/PycharmProjects/Crawler/xpath/原神/很大..._acg-pixiv插画网(p站).jpeg\n",
      "文件/Users/lucifer/PycharmProjects/Crawler/xpath/原神/很大..._acg-pixiv插画网(p站).jpeg重命名成功，新的文件名为/Users/lucifer/PycharmProjects/Crawler/xpath/原神/0..._acg-pixiv插画网(p站).jpeg\n",
      "■SEA△_acg-pixiv插画网(p站).jpeg /Users/lucifer/PycharmProjects/Crawler/xpath/原神/■SEA△_acg-pixiv插画网(p站).jpeg\n",
      "文件/Users/lucifer/PycharmProjects/Crawler/xpath/原神/■SEA△_acg-pixiv插画网(p站).jpeg重命名成功，新的文件名为/Users/lucifer/PycharmProjects/Crawler/xpath/原神/1.jpeg\n",
      "Victorious.jpeg /Users/lucifer/PycharmProjects/Crawler/xpath/原神/Victorious.jpeg\n",
      "文件/Users/lucifer/PycharmProjects/Crawler/xpath/原神/Victorious.jpeg重命名成功，新的文件名为/Users/lucifer/PycharmProjects/Crawler/xpath/原神/2.jpeg\n",
      "pixiv.jpeg /Users/lucifer/PycharmProjects/Crawler/xpath/原神/pixiv.jpeg\n",
      "文件/Users/lucifer/PycharmProjects/Crawler/xpath/原神/pixiv.jpeg重命名成功，新的文件名为/Users/lucifer/PycharmProjects/Crawler/xpath/原神/3.jpeg\n",
      "檀香山(火奴鲁鲁)_acg-pixiv插画网(p站).jpeg /Users/lucifer/PycharmProjects/Crawler/xpath/原神/檀香山(火奴鲁鲁)_acg-pixiv插画网(p站).jpeg\n",
      "文件/Users/lucifer/PycharmProjects/Crawler/xpath/原神/檀香山(火奴鲁鲁)_acg-pixiv插画网(p站).jpeg重命名成功，新的文件名为/Users/lucifer/PycharmProjects/Crawler/xpath/原神/4.jpeg\n",
      "Afternoon_acg-pixiv插画网(p站).jpeg /Users/lucifer/PycharmProjects/Crawler/xpath/原神/Afternoon_acg-pixiv插画网(p站).jpeg\n",
      "文件/Users/lucifer/PycharmProjects/Crawler/xpath/原神/Afternoon_acg-pixiv插画网(p站).jpeg重命名成功，新的文件名为/Users/lucifer/PycharmProjects/Crawler/xpath/原神/5.jpeg\n",
      "肥宅_acg-pixiv插画网(p站).jpeg /Users/lucifer/PycharmProjects/Crawler/xpath/原神/肥宅_acg-pixiv插画网(p站).jpeg\n",
      "文件/Users/lucifer/PycharmProjects/Crawler/xpath/原神/肥宅_acg-pixiv插画网(p站).jpeg重命名成功，新的文件名为/Users/lucifer/PycharmProjects/Crawler/xpath/原神/6.jpeg\n",
      "北卡罗来纳(北卡罗来纳)_acg-pixiv插画网(p站).jpeg /Users/lucifer/PycharmProjects/Crawler/xpath/原神/北卡罗来纳(北卡罗来纳)_acg-pixiv插画网(p站).jpeg\n",
      "文件/Users/lucifer/PycharmProjects/Crawler/xpath/原神/北卡罗来纳(北卡罗来纳)_acg-pixiv插画网(p站).jpeg重命名成功，新的文件名为/Users/lucifer/PycharmProjects/Crawler/xpath/原神/7.jpeg\n",
      "碧蓝航线-洗面奶_acg-pixiv插画网(p站).jpeg /Users/lucifer/PycharmProjects/Crawler/xpath/原神/碧蓝航线-洗面奶_acg-pixiv插画网(p站).jpeg\n",
      "文件/Users/lucifer/PycharmProjects/Crawler/xpath/原神/碧蓝航线-洗面奶_acg-pixiv插画网(p站).jpeg重命名成功，新的文件名为/Users/lucifer/PycharmProjects/Crawler/xpath/原神/8.jpeg\n",
      "天狼星_acg-pixiv插画网(p站).jpeg /Users/lucifer/PycharmProjects/Crawler/xpath/原神/天狼星_acg-pixiv插画网(p站).jpeg\n",
      "文件/Users/lucifer/PycharmProjects/Crawler/xpath/原神/天狼星_acg-pixiv插画网(p站).jpeg重命名成功，新的文件名为/Users/lucifer/PycharmProjects/Crawler/xpath/原神/9.jpeg\n",
      "3 years_acg-pixiv插画网(p站).jpeg /Users/lucifer/PycharmProjects/Crawler/xpath/原神/3 years_acg-pixiv插画网(p站).jpeg\n",
      "文件/Users/lucifer/PycharmProjects/Crawler/xpath/原神/3 years_acg-pixiv插画网(p站).jpeg重命名成功，新的文件名为/Users/lucifer/PycharmProjects/Crawler/xpath/原神/10.jpeg\n",
      "一航戦_acg-pixiv插画网(p站).jpeg /Users/lucifer/PycharmProjects/Crawler/xpath/原神/一航戦_acg-pixiv插画网(p站).jpeg\n",
      "文件/Users/lucifer/PycharmProjects/Crawler/xpath/原神/一航戦_acg-pixiv插画网(p站).jpeg重命名成功，新的文件名为/Users/lucifer/PycharmProjects/Crawler/xpath/原神/11.jpeg\n",
      "哈曼拍摄_acg-pixiv插画网(p站).jpeg /Users/lucifer/PycharmProjects/Crawler/xpath/原神/哈曼拍摄_acg-pixiv插画网(p站).jpeg\n",
      "文件/Users/lucifer/PycharmProjects/Crawler/xpath/原神/哈曼拍摄_acg-pixiv插画网(p站).jpeg重命名成功，新的文件名为/Users/lucifer/PycharmProjects/Crawler/xpath/原神/12.jpeg\n",
      "箱中大凤_acg-pixiv插画网(p站).jpeg /Users/lucifer/PycharmProjects/Crawler/xpath/原神/箱中大凤_acg-pixiv插画网(p站).jpeg\n",
      "文件/Users/lucifer/PycharmProjects/Crawler/xpath/原神/箱中大凤_acg-pixiv插画网(p站).jpeg重命名成功，新的文件名为/Users/lucifer/PycharmProjects/Crawler/xpath/原神/13.jpeg\n",
      "阿兹莱恩_acg-pixiv插画网(p站).jpeg /Users/lucifer/PycharmProjects/Crawler/xpath/原神/阿兹莱恩_acg-pixiv插画网(p站).jpeg\n",
      "文件/Users/lucifer/PycharmProjects/Crawler/xpath/原神/阿兹莱恩_acg-pixiv插画网(p站).jpeg重命名成功，新的文件名为/Users/lucifer/PycharmProjects/Crawler/xpath/原神/14.jpeg\n",
      "愛宕_acg-pixiv插画网(p站).jpeg /Users/lucifer/PycharmProjects/Crawler/xpath/原神/愛宕_acg-pixiv插画网(p站).jpeg\n",
      "文件/Users/lucifer/PycharmProjects/Crawler/xpath/原神/愛宕_acg-pixiv插画网(p站).jpeg重命名成功，新的文件名为/Users/lucifer/PycharmProjects/Crawler/xpath/原神/15.jpeg\n",
      "大天青车道给您拜年了_acg-pixiv插画网(p站).jpeg /Users/lucifer/PycharmProjects/Crawler/xpath/原神/大天青车道给您拜年了_acg-pixiv插画网(p站).jpeg\n",
      "文件/Users/lucifer/PycharmProjects/Crawler/xpath/原神/大天青车道给您拜年了_acg-pixiv插画网(p站).jpeg重命名成功，新的文件名为/Users/lucifer/PycharmProjects/Crawler/xpath/原神/16.jpeg\n",
      "吾妻玛玛~！！_acg-pixiv插画网(p站).jpeg /Users/lucifer/PycharmProjects/Crawler/xpath/原神/吾妻玛玛~！！_acg-pixiv插画网(p站).jpeg\n",
      "文件/Users/lucifer/PycharmProjects/Crawler/xpath/原神/吾妻玛玛~！！_acg-pixiv插画网(p站).jpeg重命名成功，新的文件名为/Users/lucifer/PycharmProjects/Crawler/xpath/原神/17.jpeg\n",
      "爱宕(Azulin)_acg-pixiv插画网(p站).jpeg /Users/lucifer/PycharmProjects/Crawler/xpath/原神/爱宕(Azulin)_acg-pixiv插画网(p站).jpeg\n",
      "文件/Users/lucifer/PycharmProjects/Crawler/xpath/原神/爱宕(Azulin)_acg-pixiv插画网(p站).jpeg重命名成功，新的文件名为/Users/lucifer/PycharmProjects/Crawler/xpath/原神/18.jpeg\n",
      "0505_acg-pixiv插画网(p站).jpeg /Users/lucifer/PycharmProjects/Crawler/xpath/原神/0505_acg-pixiv插画网(p站).jpeg\n",
      "文件/Users/lucifer/PycharmProjects/Crawler/xpath/原神/0505_acg-pixiv插画网(p站).jpeg重命名成功，新的文件名为/Users/lucifer/PycharmProjects/Crawler/xpath/原神/19.jpeg\n",
      "阿兹尔莱恩：阿兹尔莱恩_acg-pixiv插画网(p站).jpeg /Users/lucifer/PycharmProjects/Crawler/xpath/原神/阿兹尔莱恩：阿兹尔莱恩_acg-pixiv插画网(p站).jpeg\n",
      "文件/Users/lucifer/PycharmProjects/Crawler/xpath/原神/阿兹尔莱恩：阿兹尔莱恩_acg-pixiv插画网(p站).jpeg重命名成功，新的文件名为/Users/lucifer/PycharmProjects/Crawler/xpath/原神/20.jpeg\n",
      "-伊拉斯特里亚斯-_acg-pixiv插画网(p站).jpeg /Users/lucifer/PycharmProjects/Crawler/xpath/原神/-伊拉斯特里亚斯-_acg-pixiv插画网(p站).jpeg\n",
      "文件/Users/lucifer/PycharmProjects/Crawler/xpath/原神/-伊拉斯特里亚斯-_acg-pixiv插画网(p站).jpeg重命名成功，新的文件名为/Users/lucifer/PycharmProjects/Crawler/xpath/原神/21.jpeg\n",
      "-0 0-_acg-pixiv插画网(p站).jpeg /Users/lucifer/PycharmProjects/Crawler/xpath/原神/-0 0-_acg-pixiv插画网(p站).jpeg\n",
      "文件/Users/lucifer/PycharmProjects/Crawler/xpath/原神/-0 0-_acg-pixiv插画网(p站).jpeg重命名成功，新的文件名为/Users/lucifer/PycharmProjects/Crawler/xpath/原神/22.jpeg\n",
      "1週年happy!!_acg-pixiv插画网(p站).jpeg /Users/lucifer/PycharmProjects/Crawler/xpath/原神/1週年happy!!_acg-pixiv插画网(p站).jpeg\n",
      "文件/Users/lucifer/PycharmProjects/Crawler/xpath/原神/1週年happy!!_acg-pixiv插画网(p站).jpeg重命名成功，新的文件名为/Users/lucifer/PycharmProjects/Crawler/xpath/原神/23.jpeg\n",
      "高雄_acg-pixiv插画网(p站).jpeg /Users/lucifer/PycharmProjects/Crawler/xpath/原神/高雄_acg-pixiv插画网(p站).jpeg\n",
      "文件/Users/lucifer/PycharmProjects/Crawler/xpath/原神/高雄_acg-pixiv插画网(p站).jpeg重命名成功，新的文件名为/Users/lucifer/PycharmProjects/Crawler/xpath/原神/24.jpeg\n",
      "大凤(阿兹尔莱恩)_acg-pixiv插画网(p站).jpeg /Users/lucifer/PycharmProjects/Crawler/xpath/原神/大凤(阿兹尔莱恩)_acg-pixiv插画网(p站).jpeg\n",
      "文件/Users/lucifer/PycharmProjects/Crawler/xpath/原神/大凤(阿兹尔莱恩)_acg-pixiv插画网(p站).jpeg重命名成功，新的文件名为/Users/lucifer/PycharmProjects/Crawler/xpath/原神/25.jpeg\n",
      "“我会珍惜指挥官给我的爱。”_acg-pixiv插画网(p站).jpeg /Users/lucifer/PycharmProjects/Crawler/xpath/原神/“我会珍惜指挥官给我的爱。”_acg-pixiv插画网(p站).jpeg\n",
      "文件/Users/lucifer/PycharmProjects/Crawler/xpath/原神/“我会珍惜指挥官给我的爱。”_acg-pixiv插画网(p站).jpeg重命名成功，新的文件名为/Users/lucifer/PycharmProjects/Crawler/xpath/原神/26.jpeg\n"
     ]
    }
   ],
   "source": [
    "import os\n",
    "\n",
    "def main (path):\n",
    "    filename_list = os.listdir(path) \n",
    "    a = 0\n",
    "    for i in filename_list:\n",
    "        used_name = path + filename_list[a]\n",
    "        print(i,used_name)\n",
    "        new_name = path + str(a) + used_name[used_name.index('.'):] # 保留原后缀\n",
    "        os.rename(used_name, new_name)\n",
    "        print(\"文件%s重命名成功，新的文件名为%s\" %(used_name,new_name))\n",
    "        a += 1\n",
    "\n",
    "if __name__=='__main__':\n",
    "    path=\"/Users/lucifer/PycharmProjects/Crawler/xpath/原神/\" # 目标路径\n",
    "    main(path)\n"
   ]
  },
  {
   "cell_type": "code",
   "execution_count": null,
   "metadata": {},
   "outputs": [],
   "source": []
  }
 ],
 "metadata": {
  "kernelspec": {
   "display_name": "Python 3",
   "language": "python",
   "name": "python3"
  },
  "language_info": {
   "codemirror_mode": {
    "name": "ipython",
    "version": 3
   },
   "file_extension": ".py",
   "mimetype": "text/x-python",
   "name": "python",
   "nbconvert_exporter": "python",
   "pygments_lexer": "ipython3",
   "version": "3.7.0"
  }
 },
 "nbformat": 4,
 "nbformat_minor": 4
}
